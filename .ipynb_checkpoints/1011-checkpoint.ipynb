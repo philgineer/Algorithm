{
 "cells": [
  {
   "cell_type": "code",
   "execution_count": 19,
   "metadata": {},
   "outputs": [],
   "source": [
    "\n",
    "def sigma(x):\n",
    "    if x==0:\n",
    "        return 0\n",
    "    else:\n",
    "        return sigma(x-1) + x"
   ]
  },
  {
   "cell_type": "code",
   "execution_count": 20,
   "metadata": {},
   "outputs": [
    {
     "data": {
      "text/plain": [
       "15"
      ]
     },
     "execution_count": 20,
     "metadata": {},
     "output_type": "execute_result"
    }
   ],
   "source": [
    "sigma(5)"
   ]
  },
  {
   "cell_type": "code",
   "execution_count": 23,
   "metadata": {},
   "outputs": [],
   "source": [
    "def dsig(x):\n",
    "    return sigma(x) + sigma(x-1)"
   ]
  },
  {
   "cell_type": "code",
   "execution_count": 32,
   "metadata": {},
   "outputs": [
    {
     "data": {
      "text/plain": [
       "1"
      ]
     },
     "execution_count": 32,
     "metadata": {},
     "output_type": "execute_result"
    }
   ],
   "source": [
    "dsig(1)"
   ]
  },
  {
   "cell_type": "code",
   "execution_count": 25,
   "metadata": {},
   "outputs": [
    {
     "data": {
      "text/plain": [
       "4"
      ]
     },
     "execution_count": 25,
     "metadata": {},
     "output_type": "execute_result"
    }
   ],
   "source": [
    "dsig(2)"
   ]
  },
  {
   "cell_type": "code",
   "execution_count": 26,
   "metadata": {},
   "outputs": [
    {
     "data": {
      "text/plain": [
       "9"
      ]
     },
     "execution_count": 26,
     "metadata": {},
     "output_type": "execute_result"
    }
   ],
   "source": [
    "dsig(3)"
   ]
  },
  {
   "cell_type": "code",
   "execution_count": 27,
   "metadata": {},
   "outputs": [
    {
     "data": {
      "text/plain": [
       "16"
      ]
     },
     "execution_count": 27,
     "metadata": {},
     "output_type": "execute_result"
    }
   ],
   "source": [
    "dsig(4)"
   ]
  },
  {
   "cell_type": "code",
   "execution_count": 81,
   "metadata": {},
   "outputs": [
    {
     "name": "stdout",
     "output_type": "stream",
     "text": [
      "0 18\n"
     ]
    }
   ],
   "source": [
    "x,y = map(int, input().split())\n",
    "n=y-x"
   ]
  },
  {
   "cell_type": "code",
   "execution_count": 82,
   "metadata": {},
   "outputs": [
    {
     "name": "stdout",
     "output_type": "stream",
     "text": [
      "4 2\n",
      "7\n"
     ]
    }
   ],
   "source": [
    "i = 1\n",
    "while True:\n",
    "    if dsig(i) <= n:\n",
    "        i+=1\n",
    "    else:\n",
    "        k = i-1\n",
    "        res = n-dsig(k)\n",
    "        print(k, res)\n",
    "        \n",
    "        a = 2*k-1\n",
    "        print(a)\n",
    "        break"
   ]
  },
  {
   "cell_type": "code",
   "execution_count": 83,
   "metadata": {},
   "outputs": [
    {
     "name": "stdout",
     "output_type": "stream",
     "text": [
      "a: 8 k: 1 res: 0\n"
     ]
    }
   ],
   "source": [
    "while True:\n",
    "    if k == 0:\n",
    "        print('a:', a, 'k:', k, 'res:', res)\n",
    "        if res == 1:\n",
    "            res-=1\n",
    "            a+=1\n",
    "            print('a:', a, 'k:', k, 'res:', res)\n",
    "        break\n",
    "    if res == 0:\n",
    "        print('a:', a, 'k:', k, 'res:', res)\n",
    "        break\n",
    "    if k <= res:\n",
    "        a+=1\n",
    "        res-=k\n",
    "        k-=1\n",
    "    else:\n",
    "        k-=1\n"
   ]
  },
  {
   "cell_type": "code",
   "execution_count": 101,
   "metadata": {},
   "outputs": [
    {
     "name": "stdout",
     "output_type": "stream",
     "text": [
      "0 2\n",
      "2\n"
     ]
    }
   ],
   "source": [
    "x,y = map(int, input().split())\n",
    "n=y-x\n",
    "\n",
    "def sigma(x):\n",
    "    if x==0:\n",
    "        return 0\n",
    "    else:\n",
    "        return sigma(x-1) + x\n",
    "\n",
    "def dsig(x):\n",
    "    return sigma(x) + sigma(x-1)\n",
    "    \n",
    "if n == 1:\n",
    "    print(1)\n",
    "\n",
    "else:\n",
    "    i = 1\n",
    "    while True:\n",
    "        if dsig(i) <= n:\n",
    "            i+=1\n",
    "        else:\n",
    "            k = i-1\n",
    "            res = n-dsig(k)\n",
    "            a = 2*k-1\n",
    "            break\n",
    "\n",
    "    while True:\n",
    "        if k == 1:\n",
    "            res-=1\n",
    "            a+=1\n",
    "            print(a)\n",
    "            break\n",
    "        if res == 0:\n",
    "            print(a)\n",
    "            break\n",
    "        if k <= res:\n",
    "            a+=1\n",
    "            res-=k\n",
    "            k-=1\n",
    "        else:\n",
    "            k-=1"
   ]
  },
  {
   "cell_type": "code",
   "execution_count": null,
   "metadata": {},
   "outputs": [],
   "source": []
  }
 ],
 "metadata": {
  "kernelspec": {
   "display_name": "Python 3",
   "language": "python",
   "name": "python3"
  },
  "language_info": {
   "codemirror_mode": {
    "name": "ipython",
    "version": 3
   },
   "file_extension": ".py",
   "mimetype": "text/x-python",
   "name": "python",
   "nbconvert_exporter": "python",
   "pygments_lexer": "ipython3",
   "version": "3.6.8"
  }
 },
 "nbformat": 4,
 "nbformat_minor": 2
}
